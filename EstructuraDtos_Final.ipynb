{
  "nbformat": 4,
  "nbformat_minor": 0,
  "metadata": {
    "colab": {
      "provenance": [],
      "authorship_tag": "ABX9TyNgWfZp3Pp4Mf8OVo1rcdc/",
      "include_colab_link": true
    },
    "kernelspec": {
      "name": "python3",
      "display_name": "Python 3"
    },
    "language_info": {
      "name": "python"
    }
  },
  "cells": [
    {
      "cell_type": "markdown",
      "metadata": {
        "id": "view-in-github",
        "colab_type": "text"
      },
      "source": [
        "<a href=\"https://colab.research.google.com/github/Sebas20-l/colab-ejercicos/blob/main/EstructuraDtos_Final.ipynb\" target=\"_parent\"><img src=\"https://colab.research.google.com/assets/colab-badge.svg\" alt=\"Open In Colab\"/></a>"
      ]
    },
    {
      "cell_type": "markdown",
      "source": [
        "O(1) espacio (constante): El algoritmo no necesita memoria adicional que crezca con el tamaño del input.\n",
        "\n",
        "O(n) espacio (lineal): El algoritmo necesita crear estructuras nuevas (como listas o diccionarios) que crecen con la entrada.\n",
        "\n",
        "O(n²):cuando usas una matriz o una lista dentro de otra.\n",
        "\n",
        "O(log n) :más raro en espacio, pero puede pasar cuando haces divisiones o recursión eficiente.\n",
        "\n",
        "O(n + m) — Dos listas-Cuando tienes dos listas u otras estructuras con tamaños diferentes.\n",
        "\n",
        "O(n × m) se usa cuando estás trabajando con dos listas (o strings, o estructuras) a la vez y haces algo para cada combinación posible de sus elementos."
      ],
      "metadata": {
        "id": "bviY9VTr0E1B"
      }
    },
    {
      "cell_type": "code",
      "execution_count": null,
      "metadata": {
        "id": "WQUzSJs4R94D"
      },
      "outputs": [],
      "source": [
        "#prblema 1-13leetcode\n",
        "# Solución Simple\n",
        "# Recorremos la cadena de derecha a izquierda y restamos si un número menor aparece antes que uno mayor.\n",
        "\n",
        "def romanToInt_simple(s: str) -> int:\n",
        "    # Mapeo de cada símbolo romano a su valor numérico\n",
        "    roman = {\n",
        "        'I': 1, 'V': 5, 'X': 10, 'L': 50,\n",
        "        'C': 100, 'D': 500, 'M': 1000\n",
        "    }\n",
        "    total = 0 # Resultado acumulado\n",
        "    prev = 0 # Valor anterior para comparar si se suma o se resta\n",
        "\n",
        " # Recorremos la cadena desde el final al inicio\n",
        "    for char in reversed(s):\n",
        "        current = roman[char]  # Convertimos el símbolo a valor numérico\n",
        "         # Si el valor actual es menor que el anterior, restamos\n",
        "        if current < prev:\n",
        "            total -= current\n",
        "        else:\n",
        "            total += current # Si no, sumamos\n",
        "        prev = current  # Actualizamos el valor anterior\n",
        "\n",
        "    return total\n",
        "\n",
        "# Complejidad:\n",
        "# Tiempo: O(n)\n",
        "# Espacio: O(1)"
      ]
    },
    {
      "cell_type": "code",
      "source": [],
      "metadata": {
        "id": "sRO5wZAOW8Yl"
      },
      "execution_count": null,
      "outputs": []
    },
    {
      "cell_type": "markdown",
      "source": [
        "Esta solución convierte números romanos a enteros utilizando un enfoque eficiente basado en una lectura de derecha a izquierda, y una comparación entre valores sucesivos.\n",
        "\n",
        "Se usa un diccionario roman para mapear cada símbolo romano a su valor numérico.\n",
        "\n",
        "Se recorre la cadena en orden inverso (de derecha a izquierda), porque en los números romanos, si un símbolo más pequeño aparece antes que uno mayor (por ejemplo, \"IV\" = 4), se realiza una resta. Si no, se suma normalmente.\n",
        "\n",
        "Se guarda un valor previo (prev) para hacer la comparación con el símbolo actual. Si el actual es menor que el previo, se resta del total; en caso contrario, se suma.\n",
        "\n",
        "Al final se devuelve el total acumulado.\n",
        "\n",
        "Este enfoque evita recorrer la cadena varias veces y no utiliza estructuras adicionales más allá de una tabla de mapeo y variables simples.\n",
        "\n",
        "Complejidad:\n",
        "\n",
        "Tiempo: O(n), donde n es la longitud de la cadena.\n",
        "\n",
        "Espacio: O(1), porque el espacio usado no depende del tamaño de la entrada, solo del diccionario fijo."
      ],
      "metadata": {
        "id": "J6SB4MqRcAEX"
      }
    },
    {
      "cell_type": "code",
      "source": [
        "#problema 1- 13leetcode\n",
        "# Solución Optimizada\n",
        "# Recorremos de izquierda a derecha y comparamos el símbolo actual con el siguiente.\n",
        "\n",
        " # Diccionario con los valores de cada símbolo romano\n",
        "def romanToInt_optimized(s: str) -> int:\n",
        "    roman = {\n",
        "        'I': 1, 'V': 5, 'X': 10, 'L': 50,\n",
        "        'C': 100, 'D': 500, 'M': 1000\n",
        "    }\n",
        "    total = 0 # Variable para acumular el valor total\n",
        "    i = 0  # Índice para recorrer la cadena 's'\n",
        "\n",
        "    while i < len(s): # Mientras no lleguemos al final de la cadena\n",
        "      # Si no estamos en el último símbolo y el valor actual es menor que el siguiente,\n",
        "        # significa que debemos restar (ejemplo: IV = 5 - 1)\n",
        "        if i + 1 < len(s) and roman[s[i]] < roman[s[i + 1]]:\n",
        "             # Sumamos la diferencia del siguiente menos el actual\n",
        "            total += roman[s[i + 1]] - roman[s[i]]\n",
        "            i += 2 # Avanzamos dos posiciones porque procesamos un par de símbolos\n",
        "        else:\n",
        "             # Si no es un caso de resta, simplemente sumamos el valor del símbolo actual\n",
        "            total += roman[s[i]]\n",
        "            i += 1 # Avanzamos una posición\n",
        "\n",
        "    return total\n",
        "\n",
        "# Complejidad:\n",
        "# Tiempo: O(n)\n",
        "# Espacio: O(1)\n",
        "\n",
        "# Pruebas:\n",
        "print(romanToInt_simple(\"III\"))      # 3\n",
        "print(romanToInt_simple(\"LVIII\"))    # 58\n",
        "print(romanToInt_simple(\"MCMXCIV\"))  # 1994\n",
        "\n",
        "print(romanToInt_optimized(\"III\"))      # 3\n",
        "print(romanToInt_optimized(\"LVIII\"))    # 58\n",
        "print(romanToInt_optimized(\"MCMXCIV\"))  # 1994\n"
      ],
      "metadata": {
        "id": "r2UDJylJSiwW"
      },
      "execution_count": null,
      "outputs": []
    },
    {
      "cell_type": "markdown",
      "source": [
        "La función romanToInt_optimized convierte un número romano dado como cadena en su equivalente decimal. Para esto, recorre la cadena de izquierda a derecha comparando el valor del símbolo actual con el siguiente:\n",
        "\n",
        "Si el símbolo actual es menor que el siguiente, significa que debemos restar (por ejemplo, IV es 5 - 1 = 4), por lo que sumamos la diferencia y saltamos ambos símbolos.\n",
        "\n",
        "Si no, simplemente sumamos el valor del símbolo actual.\n",
        "\n",
        "Esta estrategia permite manejar correctamente los números romanos que incluyen restas y los que no, en un solo recorrido lineal.\n",
        "\n",
        "La complejidad temporal es O(n), siendo n la longitud de la cadena, porque cada símbolo se procesa una vez o dos si es parte de un par especial. La complejidad espacial es O(1), ya que usamos un diccionario fijo para los símbolos romanos."
      ],
      "metadata": {
        "id": "2IpEx7gnOyEz"
      }
    },
    {
      "cell_type": "code",
      "source": [
        "#problema2- 14leetcode\n",
        "# Solución Simple\n",
        "# Tomamos la primera palabra y comparamos letra por letra con las demás.\n",
        "\n",
        "def longestCommonPrefix_simple(strs: list[str]) -> str:\n",
        "    # Si la lista está vacía, regresamos cadena vacía\n",
        "    if not strs:\n",
        "        return \"\"\n",
        "# Tomamos el primer string como prefijo inicial\n",
        "    prefix = strs[0]\n",
        "# Recorremos los siguientes strings\n",
        "    for word in strs[1:]:\n",
        "        i = 0\n",
        "       # Mientras el string actual no empiece con el prefijo,\n",
        "        # recortamos el prefijo quitamos último carácter\n",
        "        while i < len(prefix) and i < len(word) and prefix[i] == word[i]:\n",
        "            i += 1\n",
        "        prefix = prefix[:i]\n",
        "        if prefix == \"\":\n",
        "            break\n",
        "\n",
        "    return prefix\n",
        "\n",
        "# Complejidad:\n",
        "# Tiempo: O(n * m), donde n = número de palabras, m = longitud del prefijo.\n",
        "# Espacio: O(1)\n"
      ],
      "metadata": {
        "id": "DrBHq5BcXDE6"
      },
      "execution_count": null,
      "outputs": []
    },
    {
      "cell_type": "markdown",
      "source": [
        "La función longestCommonPrefix_simple recibe una lista de cadenas y busca el prefijo común más largo que aparece al inicio de todas las palabras.\n",
        "\n",
        "Cómo funciona:\n",
        "\n",
        "Primero, verifica si la lista está vacía; si es así, regresa una cadena vacía porque no hay prefijo posible.\n",
        "\n",
        "Usa el primer string de la lista como prefijo inicial.\n",
        "\n",
        "Luego, compara ese prefijo con cada una de las demás palabras de la lista:\n",
        "\n",
        "Para cada palabra, compara carácter por carácter con el prefijo mientras sean iguales.\n",
        "\n",
        "Si encuentra una diferencia, recorta el prefijo hasta la posición donde coincidían los caracteres.\n",
        "\n",
        "Si en algún momento el prefijo queda vacío, termina el proceso porque no existe ningún prefijo común.\n",
        "\n",
        "Al final, retorna el prefijo común más largo encontrado.\n",
        "\n",
        "Complejidad:\n",
        "\n",
        "Tiempo: O(n * m), donde n es el número de palabras y m la longitud del prefijo común, porque en el peor caso comparamos cada carácter de cada palabra.\n",
        "\n",
        "Espacio: O(1), solo se usa espacio constante adicional para variables.\n",
        "\n",
        "Esta solución es intuitiva y sencilla, adecuada para entender el concepto básico de búsqueda de prefijos comunes."
      ],
      "metadata": {
        "id": "2YHdoLQpPmvr"
      }
    },
    {
      "cell_type": "code",
      "source": [
        "#problema2- 14leetcode\n",
        "#Solución Optimizada\n",
        "# Ordenamos las palabras y comparamos solo la primera y la última.\n",
        "\n",
        "def longestCommonPrefix_optimized(strs: list[str]) -> str:\n",
        "    if not strs:\n",
        "        return \"\"\n",
        "\n",
        "    # Ordenamos alfabéticamente\n",
        "    strs.sort()\n",
        "   # Solo comparamos la primera y la última palabra\n",
        "    first = strs[0]\n",
        "    last = strs[-1]\n",
        "    i = 0\n",
        "\n",
        "# Recorremos letra por letra mientras coincidan\n",
        "    while i < len(first) and i < len(last) and first[i] == last[i]:\n",
        "        i += 1\n",
        " # Devolvemos el prefijo común\n",
        "    return first[:i]\n",
        "\n",
        "# Complejidad:\n",
        "# Tiempo: O(n log n + m), por la ordenación y comparación.\n",
        "# Espacio: O(1)\n",
        "\n",
        "# Pruebas:\n",
        "print(longestCommonPrefix_simple([\"flower\", \"flow\", \"flight\"]))  # \"fl\"\n",
        "print(longestCommonPrefix_simple([\"dog\", \"racecar\", \"car\"]))     # \"\"\n",
        "\n",
        "print(longestCommonPrefix_optimized([\"flower\", \"flow\", \"flight\"]))  # \"fl\"\n",
        "print(longestCommonPrefix_optimized([\"dog\", \"racecar\", \"car\"]))     # \"\""
      ],
      "metadata": {
        "id": "tHUxbbrvXK0w"
      },
      "execution_count": null,
      "outputs": []
    },
    {
      "cell_type": "markdown",
      "source": [
        "La función longestCommonPrefix_optimized busca el prefijo común más largo de una lista de cadenas utilizando un método más eficiente:\n",
        "\n",
        "Cómo funciona:\n",
        "\n",
        "Primero, verifica si la lista está vacía; si es así, regresa una cadena vacía.\n",
        "\n",
        "Ordena alfabéticamente la lista de palabras.\n",
        "\n",
        "Solo compara la primera y la última palabra de la lista ordenada.\n",
        "\n",
        "Esto es porque la diferencia máxima entre palabras estará entre la primera y la última en orden alfabético.\n",
        "\n",
        "Recorre carácter por carácter ambas palabras hasta encontrar una diferencia.\n",
        "\n",
        "Devuelve el prefijo común que hayan compartido ambas palabras al inicio.\n",
        "\n",
        "Complejidad:\n",
        "\n",
        "Tiempo: O(n log n + m), donde n es el número de palabras (por la ordenación) y m la longitud del prefijo común (por la comparación).\n",
        "\n",
        "Espacio: O(1), porque solo se usan variables adicionales constantes.\n",
        "\n",
        "Este enfoque reduce la cantidad de comparaciones necesarias y mejora la eficiencia al evitar comparar todas las palabras entre sí."
      ],
      "metadata": {
        "id": "x8GCg3kVdoMv"
      }
    },
    {
      "cell_type": "markdown",
      "source": [
        "La función longestCommonPrefix_optimized busca el prefijo común más largo de una lista de cadenas utilizando un método más eficiente:\n",
        "\n",
        "Cómo funciona:\n",
        "\n",
        "Primero, verifica si la lista está vacía; si es así, regresa una cadena vacía.\n",
        "\n",
        "Ordena alfabéticamente la lista de palabras.\n",
        "\n",
        "Solo compara la primera y la última palabra de la lista ordenada.\n",
        "\n",
        "Esto es porque la diferencia máxima entre palabras estará entre la primera y la última en orden alfabético.\n",
        "\n",
        "Recorre carácter por carácter ambas palabras hasta encontrar una diferencia.\n",
        "\n",
        "Devuelve el prefijo común que hayan compartido ambas palabras al inicio.\n",
        "\n",
        "Complejidad:\n",
        "\n",
        "Tiempo: O(n log n + m), donde n es el número de palabras (por la ordenación) y m la longitud del prefijo común (por la comparación).\n",
        "\n",
        "Espacio: O(1), porque solo se usan variables adicionales constantes.\n",
        "\n",
        "Este enfoque reduce la cantidad de comparaciones necesarias y mejora la eficiencia al evitar comparar todas las palabras entre sí.\n",
        "\n",
        "La función longestCommonPrefix_optimized encuentra el prefijo común más largo en una lista de cadenas utilizando un método eficiente basado en ordenación:\n",
        "\n",
        "Primero, verifica si la lista está vacía. Si es así, devuelve una cadena vacía, ya que no hay prefijo.\n",
        "\n",
        "Ordena alfabéticamente la lista de cadenas. Esto pone palabras similares cerca una de la otra.\n",
        "\n",
        "Luego, solo compara la primera y la última palabra de la lista ordenada:\n",
        "\n",
        "Debido a la ordenación, estas dos palabras representarán el máximo rango de diferencia dentro de la lista.\n",
        "\n",
        "Recorre carácter por carácter ambas palabras hasta encontrar la primera diferencia.\n",
        "\n",
        "Devuelve el prefijo común que ambas comparten hasta ese punto.\n",
        "\n",
        "Complejidad:\n",
        "\n",
        "Tiempo: O(n log n + m), donde n es el número de palabras (por la ordenación), y m es la longitud del prefijo común (por la comparación entre la primera y última palabra).\n",
        "\n",
        "Espacio: O(1), ya que solo se usan variables auxiliares constantes.\n",
        "\n",
        "Este enfoque es más eficiente que comparar cada palabra con todas las demás, pues reduce la cantidad de comparaciones necesarias, manteniendo la precisión para encontrar el prefijo común más largo."
      ],
      "metadata": {
        "id": "dqJUnM1XQaTP"
      }
    },
    {
      "cell_type": "code",
      "source": [
        "#problema3- leetcode20\n",
        "# Solución Simple\n",
        "# Usamos una pila (stack) para apilar los paréntesis que abrimos\n",
        "# y los vamos cerrando en el orden correcto.\n",
        "\n",
        "def isValid_simple(s: str) -> bool:\n",
        "    stack = [] # Usamos una pila para almacenar los paréntesis de apertura\n",
        "    mapping = {')': '(', '}': '{', ']': '['} # Mapeo de cierre → apertura\n",
        "\n",
        "    for char in s:\n",
        "        if char in mapping.values():  # si es un paréntesis de apertura\n",
        "            stack.append(char)\n",
        "        elif char in mapping:  # si es de cierre\n",
        "            if not stack or stack[-1] != mapping[char]:\n",
        "                return False\n",
        "            stack.pop() # Si hace match, eliminamos el paréntesis abierto\n",
        "        else:\n",
        "            return False  # si hay un carácter inválido\n",
        "\n",
        "    return len(stack) == 0 # Si la pila está vacía, está balanceado\n",
        "\n",
        "# Complejidad:\n",
        "# Tiempo: O(n) | Espacio: O(n)  (por la pila)"
      ],
      "metadata": {
        "id": "6eObxihjYZk4"
      },
      "execution_count": null,
      "outputs": []
    },
    {
      "cell_type": "markdown",
      "source": [
        "La función isValid_simple verifica si una cadena de paréntesis está correctamente balanceada usando una pila (stack):\n",
        "\n",
        "Se utiliza una pila para almacenar los paréntesis de apertura que se encuentran mientras recorremos la cadena.\n",
        "\n",
        "Se define un diccionario mapping que relaciona cada paréntesis de cierre con su correspondiente paréntesis de apertura.\n",
        "\n",
        "Para cada carácter en la cadena:\n",
        "\n",
        "Si es un paréntesis de apertura ((, {, [), se agrega a la pila.\n",
        "\n",
        "Si es un paréntesis de cierre (), }, ]), se verifica si la pila está vacía o si el último paréntesis agregado a la pila no corresponde al paréntesis de apertura esperado. Si alguno de estos casos ocurre, la cadena no está balanceada y se retorna False.\n",
        "\n",
        "Si el paréntesis de cierre hace \"match\" con el último paréntesis de apertura, se elimina el último elemento de la pila.\n",
        "\n",
        "Si hay cualquier carácter que no es un paréntesis válido, se retorna False.\n",
        "\n",
        "Al finalizar el recorrido, si la pila está vacía, significa que todos los paréntesis de apertura fueron correctamente cerrados en orden, por lo que la cadena es válida y se retorna True. Si la pila no está vacía, la cadena está desequilibrada y se retorna False.\n",
        "\n",
        "Complejidad:\n",
        "\n",
        "Tiempo: O(n), donde n es la longitud de la cadena, porque cada carácter se procesa una vez.\n",
        "\n",
        "Espacio: O(n), debido al uso de la pila que en el peor caso puede almacenar todos los paréntesis de apertura."
      ],
      "metadata": {
        "id": "Atbe5dQoQpE0"
      }
    },
    {
      "cell_type": "code",
      "source": [
        "#problema3- 20leetcode\n",
        "#Solución Optimizada (igual de eficiente, pero más limpia)\n",
        "\n",
        "def isValid_optimized(s: str) -> bool:\n",
        "    stack = [] # Creamos una pila vacía para guardar los paréntesis abiertos\n",
        "    pair = {'(': ')', '{': '}', '[': ']'} # Diccionario con los pares válidos\n",
        "\n",
        "    for char in s:\n",
        "        if char in pair:\n",
        "            stack.append(pair[char])  # guardamos lo que esperaríamos cerrar\n",
        "        elif not stack or stack.pop() != char:\n",
        "             # Si no hay nada en la pila o el cierre no coincide con lo esperado\n",
        "            return False\n",
        "\n",
        "    return not stack  # debe estar vacío al final\n",
        "\n",
        "# Complejidad:\n",
        "# Tiempo: O(n) | Espacio: O(n)\n",
        "\n",
        "# Pruebas:\n",
        "print(isValid_simple(\"()[]{}\"))  # True\n",
        "print(isValid_simple(\"(]\"))      # False\n",
        "\n",
        "print(isValid_optimized(\"([{}])\"))  # True\n",
        "print(isValid_optimized(\"(((\"))     # False"
      ],
      "metadata": {
        "id": "sZPNvmP5ZDOU"
      },
      "execution_count": null,
      "outputs": []
    },
    {
      "cell_type": "markdown",
      "source": [
        "Esta función valida si una cadena compuesta por paréntesis ((), {}, []) está correctamente balanceada, es decir, si cada paréntesis de apertura tiene su correspondiente cierre en el orden correcto.\n",
        "\n",
        "La solución usa una estructura de pila (stack), que es ideal para problemas donde hay que verificar pares anidados en orden LIFO (último en entrar, primero en salir).\n",
        "\n",
        "¿Cómo funciona?\n",
        "Se crea un diccionario pair con los paréntesis de apertura como clave y sus respectivos cierres como valor. Esto permite acceder rápidamente al carácter de cierre esperado.\n",
        "\n",
        "Se recorre cada carácter en la cadena:\n",
        "\n",
        "Si es un paréntesis de apertura ((, {, [), en lugar de guardar el símbolo abierto, se guarda directamente el símbolo de cierre esperado en la pila.\n",
        "\n",
        "Si es un paréntesis de cierre (), }, ]), se verifica si:\n",
        "\n",
        "La pila está vacía (no hay apertura previa, lo que es inválido), o\n",
        "\n",
        "El símbolo que se saca de la pila no coincide con el cierre actual (también inválido).\n",
        "\n",
        "Al final, la pila debe estar vacía. Si no lo está, significa que quedaron paréntesis de apertura sin cerrar.\n",
        "\n",
        "¿Por qué es eficiente?\n",
        "Optimización importante: En lugar de guardar los símbolos abiertos, se guarda directamente lo que se espera cerrar. Esto simplifica la comparación: no se necesita buscar en el diccionario, solo se compara directamente.\n",
        "\n",
        "La solución es O(n) en tiempo, ya que cada carácter se recorre una sola vez.\n",
        "\n",
        "El espacio es también O(n) en el peor caso, si todos los caracteres son paréntesis abiertos."
      ],
      "metadata": {
        "id": "NV8SNqCBgOZP"
      }
    },
    {
      "cell_type": "code",
      "source": [
        "#problema4- 21leetcode\n",
        "# Definimos la estructura de nodo para usar en el entorno local\n",
        "class ListNode:\n",
        "    def __init__(self, val=0, next=None):\n",
        "        self.val = val\n",
        "        self.next = next\n",
        "\n",
        "# Solución Simple (crear nueva lista uniendo nodos nuevos)\n",
        "\n",
        "def mergeTwoLists_simple(list1, list2):\n",
        "    dummy = ListNode(-1) # Nodo ficticio para empezar la nueva lista\n",
        "    current = dummy # Puntero para agregar nodos a la nueva lista\n",
        "\n",
        " # Mientras ambas listas tengan nodos\n",
        "    while list1 and list2:\n",
        "        if list1.val < list2.val:\n",
        "            current.next = ListNode(list1.val) # Agregamos nuevo nodo con valor de list1\n",
        "            list1 = list1.next # Avanzamos en list1\n",
        "        else:\n",
        "            current.next = ListNode(list2.val) # Agregamos nuevo nodo con valor de list2\n",
        "            list2 = list2.next   # Avanzamos en list2\n",
        "        current = current.next # Avanzamos en la nueva lista\n",
        "\n",
        "    # Añadir lo que quede de una lista\n",
        "    while list1:\n",
        "        current.next = ListNode(list1.val)\n",
        "        list1 = list1.next\n",
        "        current = current.next\n",
        "    while list2:\n",
        "        current.next = ListNode(list2.val)\n",
        "        list2 = list2.next\n",
        "        current = current.next\n",
        "\n",
        "    return dummy.next # Retornamos la lista sin el nodo ficticio\n",
        "\n",
        "#tiempo: O(n + m) | Espacio: O(n + m)  (por nodos nuevos)\n"
      ],
      "metadata": {
        "id": "jPBCqrfDaldv"
      },
      "execution_count": null,
      "outputs": []
    },
    {
      "cell_type": "markdown",
      "source": [
        "Este algoritmo resuelve el problema de fusionar dos listas enlazadas ordenadas en una nueva lista también ordenada.\n",
        "\n",
        "Se implementa una solución simple que crea una nueva lista enlazada desde cero, copiando los valores de los nodos de las listas originales (list1 y list2), sin reutilizar sus nodos. Esto es útil cuando no se desea modificar las listas de entrada.\n",
        "\n",
        "¿Cómo funciona?\n",
        "Se crea un nodo ficticio (dummy) que servirá como punto de inicio para construir la nueva lista. Este nodo es útil porque evita condiciones especiales para el primer nodo real.\n",
        "\n",
        "Se utiliza un puntero current para ir construyendo la lista resultante.\n",
        "\n",
        "Se recorre simultáneamente list1 y list2:\n",
        "\n",
        "Se compara el valor actual de cada lista.\n",
        "\n",
        "Se crea un nuevo nodo con el menor valor y se añade a la lista resultante.\n",
        "\n",
        "Se avanza en la lista de la cual se extrajo el valor.\n",
        "\n",
        "Cuando una de las listas se termina, se copian todos los nodos restantes de la otra lista.\n",
        "\n",
        "Finalmente, se retorna dummy.next, que es el inicio real de la lista fusionada (ignorando el nodo ficticio).\n",
        "\n",
        "Ejemplo:\n",
        "Si list1 = 1 -> 3 -> 5 y list2 = 2 -> 4 -> 6, la función crea una nueva lista: 1 -> 2 -> 3 -> 4 -> 5 -> 6.\n",
        "\n",
        "Complejidad:\n",
        "Tiempo: O(n + m), donde n y m son las longitudes de las dos listas. Se recorre cada nodo una sola vez.\n",
        "\n",
        "Espacio: O(n + m), ya que se crean nuevos nodos para cada elemento de ambas listas.\n",
        "\n"
      ],
      "metadata": {
        "id": "qEAmFNx-kCGd"
      }
    },
    {
      "cell_type": "code",
      "source": [
        "#problema4- 21leetcode\n",
        "# Definimos la estructura de nodo para usar en el entorno local\n",
        "class ListNode:\n",
        "    def __init__(self, val=0, next=None):\n",
        "        self.val = val\n",
        "        self.next = next\n",
        "#Solución Optimizada (reutilizar nodos existentes)\n",
        "\n",
        "def mergeTwoLists_optimized(list1, list2):\n",
        "    dummy = ListNode(-1) # Nodo ficticio para iniciar la lista resultado\n",
        "    current = dummy # Puntero que se usará para construir la lista\n",
        "\n",
        "   # Mientras ambas listas tengan nodos\n",
        "    while list1 and list2:\n",
        "        if list1.val < list2.val:\n",
        "            current.next = list1 # Apuntamos al nodo actual de list1\n",
        "            list1 = list1.next  # Avanzamos en list1\n",
        "        else:\n",
        "            current.next = list2 # Apuntamos al nodo actual de list2\n",
        "            list2 = list2.next # Avanzamos en list2\n",
        "        current = current.next # Avanzamos en la lista resultado\n",
        "\n",
        "# Cuando una lista se acaba, apuntamos al resto de la otra\n",
        "    current.next = list1 if list1 else list2\n",
        "    return dummy.next\n",
        "\n",
        "# Tiempo: O(n + m) | Espacio: O(1) (se reutilizan nodos)\n",
        "\n",
        "\n",
        "# Función de ayuda para imprimir listas en pruebas\n",
        "def print_list(head):\n",
        "    res = []\n",
        "    while head:\n",
        "        res.append(head.val)\n",
        "        head = head.next\n",
        "    print(res)\n",
        "\n",
        "# Pruebas básicas\n",
        "l1 = ListNode(1, ListNode(2, ListNode(4)))\n",
        "l2 = ListNode(1, ListNode(3, ListNode(4)))\n",
        "\n",
        "merged = mergeTwoLists_optimized(l1, l2)\n",
        "print_list(merged)  # [1, 1, 2, 3, 4, 4]"
      ],
      "metadata": {
        "id": "NisrU29Kax80",
        "colab": {
          "base_uri": "https://localhost:8080/"
        },
        "outputId": "e2482945-1d55-43ea-c0bf-468370a7c7de"
      },
      "execution_count": null,
      "outputs": [
        {
          "output_type": "stream",
          "name": "stdout",
          "text": [
            "[1, 1, 2, 3, 4, 4]\n"
          ]
        }
      ]
    },
    {
      "cell_type": "markdown",
      "source": [
        "Esta solución resuelve el problema de fusionar dos listas enlazadas ordenadas reutilizando los mismos nodos de las listas de entrada, sin crear nodos nuevos, lo que permite optimizar el uso de memoria.\n",
        "\n",
        " ¿Qué hace?\n",
        "Fusiona list1 y list2 en una única lista ordenada usando los nodos originales, lo que permite que la solución use espacio constante (O(1)).\n",
        "\n",
        "¿Cómo lo hace?\n",
        "Se crea un nodo ficticio (dummy) que funciona como punto de partida para la lista resultado. Este nodo facilita la construcción sin preocuparse por el primer elemento.\n",
        "\n",
        "Se usa un puntero current para construir la lista final.\n",
        "\n",
        "Mientras ambas listas tengan elementos:\n",
        "\n",
        "Compara los valores actuales de list1 y list2.\n",
        "\n",
        "Apunta current.next directamente al nodo más pequeño, en lugar de crear uno nuevo.\n",
        "\n",
        "Avanza en la lista de la cual tomó el nodo.\n",
        "\n",
        "También avanza current para seguir construyendo la lista.\n",
        "\n",
        "Al finalizar el bucle, una lista puede seguir teniendo nodos (la otra ya se agotó). Como están ordenados, se puede conectar el resto directamente (current.next = list1 if list1 else list2).\n",
        "\n",
        "Se retorna dummy.next, que es el inicio real de la lista combinada (ignorando el nodo ficticio)."
      ],
      "metadata": {
        "id": "gTSF3-hpj2A_"
      }
    },
    {
      "cell_type": "code",
      "source": [
        "#problema5- 26leetcode\n",
        "#Solución Simple (usar lista auxiliar) — NO cumple el requisito de hacerlo \"in-place\"\n",
        "\n",
        "def removeDuplicates_simple(nums):\n",
        "    unique = [] # Lista auxiliar para guardar los elementos únicos\n",
        "    for num in nums:\n",
        "         # Recorremos el arreglo original\n",
        "        if not unique or num != unique[-1]:\n",
        "            unique.append(num)  # Agregamos el valor único\n",
        "\n",
        "    # Copiamos los valores únicos de vuelta al array original\n",
        "    for i in range(len(unique)):\n",
        "        nums[i] = unique[i]\n",
        "\n",
        "    return len(unique) # Retornamos la cantidad de elementos únicos\n",
        "\n",
        "# Tiempo: O(n) | Espacio: O(n)\n"
      ],
      "metadata": {
        "id": "_XRRsAiGbYiA"
      },
      "execution_count": null,
      "outputs": []
    },
    {
      "cell_type": "markdown",
      "source": [
        "Este código resuelve el problema de eliminar duplicados en un arreglo ordenado, pero NO lo hace en el lugar (in-place), ya que usa memoria adicional.\n",
        "\n",
        "¿Qué hace?\n",
        "Toma una lista ordenada nums y elimina los elementos duplicados, dejando sólo una aparición de cada valor. Luego, copia los elementos únicos de nuevo a nums.\n",
        "\n",
        "¿Cómo lo hace?\n",
        "Se crea una lista auxiliar vacía llamada unique.\n",
        "\n",
        "Se recorre cada elemento en nums:\n",
        "\n",
        "Si unique está vacía, o si el número actual num es distinto al último agregado (unique[-1]), se considera único y se agrega.\n",
        "\n",
        "Una vez terminada la recolección de elementos únicos, se copian uno por uno a nums, sobrescribiendo sus valores originales.\n",
        "\n",
        "Se retorna la cantidad de elementos únicos, que es len(unique).\n",
        "\n",
        "¿Por qué no es válida como solución final?\n",
        "Aunque el algoritmo funciona correctamente, viola la restricción del problema, que indica que debe realizarse la operación in-place, es decir, sin usar memoria adicional significativa. Aquí usamos una lista auxiliar que puede crecer hasta tamaño n.\n",
        "\n",
        "Complejidad:\n",
        "Tiempo: O(n) — se recorren todos los elementos una vez para filtrar y otra vez para copiar.\n",
        "\n",
        "Espacio: O(n) — por la lista auxiliar unique.\n",
        "\n"
      ],
      "metadata": {
        "id": "V1MKsjyPkpJp"
      }
    },
    {
      "cell_type": "code",
      "source": [
        "#problema5- 26leetcode\n",
        "#Solución Optimizada (dos punteros, todo en el mismo array)\n",
        "\n",
        "def removeDuplicates_optimized(nums):\n",
        "    if not nums:\n",
        "        return 0 # Si la lista está vacía, no hay duplicados\n",
        "\n",
        "    i = 0  # apunta al último valor único\n",
        "\n",
        " # Recorremos desde el segundo elemento hasta el final\n",
        "    for j in range(1, len(nums)):\n",
        "        # Si encontramos un valor diferente al que está en i\n",
        "        if nums[j] != nums[i]:\n",
        "            i += 1 # Movemos el puntero i\n",
        "            nums[i] = nums[j]  # sobreescribimos con el nuevo valor único\n",
        "\n",
        "    return i + 1 # Retornamos la cantidad de valores únicos\n",
        "\n",
        "#Tiempo: O(n) | Espacio: O(1)\n",
        "\n",
        "# Pruebas\n",
        "nums1 = [1, 1, 2]\n",
        "k1 = removeDuplicates_optimized(nums1)\n",
        "print(k1, nums1[:k1])  # 2 [1, 2]\n",
        "\n",
        "nums2 = [0,0,1,1,1,2,2,3,3,4]\n",
        "k2 = removeDuplicates_optimized(nums2)\n",
        "print(k2, nums2[:k2])  # 5 [0,1,2,3,4]"
      ],
      "metadata": {
        "id": "ssOLLWkUcVFU",
        "colab": {
          "base_uri": "https://localhost:8080/"
        },
        "outputId": "c5c61468-df82-4d9b-88c2-717551d3cc71"
      },
      "execution_count": null,
      "outputs": [
        {
          "output_type": "stream",
          "name": "stdout",
          "text": [
            "2 [1, 2]\n",
            "5 [0, 1, 2, 3, 4]\n"
          ]
        }
      ]
    },
    {
      "cell_type": "markdown",
      "source": [
        "La función removeDuplicates_optimized elimina duplicados de una lista ordenada en el lugar, usando un método de dos punteros para lograr eficiencia en tiempo y espacio:\n",
        "\n",
        "Primero, verifica si la lista está vacía; si es así, retorna 0 porque no hay elementos ni duplicados.\n",
        "\n",
        "Utiliza dos punteros:\n",
        "\n",
        "i apunta al índice del último elemento único encontrado.\n",
        "\n",
        "j recorre el arreglo desde el segundo elemento hacia adelante.\n",
        "\n",
        "Para cada elemento en la posición j:\n",
        "\n",
        "Compara el valor actual nums[j] con el valor en nums[i].\n",
        "\n",
        "Si son diferentes, significa que se encontró un nuevo valor único.\n",
        "\n",
        "Incrementa i para avanzar al siguiente índice donde se almacenará el valor único.\n",
        "\n",
        "Sobrescribe nums[i] con nums[j] para actualizar la lista con el nuevo valor.\n",
        "\n",
        "Al final, retorna i + 1 que representa la cantidad total de valores únicos en el arreglo modificado.\n",
        "\n",
        "Complejidad:\n",
        "\n",
        "Tiempo: O(n), ya que recorre el arreglo una sola vez.\n",
        "\n",
        "Espacio: O(1), porque modifica el arreglo en sitio y solo usa variables auxiliares constantes.\n",
        "\n",
        "Esta técnica es eficiente y no requiere espacio extra, ideal para trabajar con arreglos ordenados donde queremos eliminar duplicados sin usar estructuras adicionales."
      ],
      "metadata": {
        "id": "oxMoLrdLQ_kL"
      }
    },
    {
      "cell_type": "code",
      "source": [
        "#problema6- 27leetcode\n",
        "# Solución Simple (crear nuevo arreglo y copiar)\n",
        "\n",
        "def removeElement_simple(nums, val):\n",
        "    result = [x for x in nums if x != val] # Creamos una nueva lista con todos los elementos de nums que no son iguales a val usando comprensión de listas.\n",
        "\n",
        "    # Copiar de vuelta los valores a nums\n",
        "    for i in range(len(result)): # Recorremos cada índice en la lista filtrada result.\n",
        "        nums[i] = result[i]  # Copiamos el elemento de result a la posición correspondiente en la lista original nums, sobrescribiendo los valores originales.\n",
        "\n",
        "    return len(result) # Devolvemos la longitud de la lista result, que representa la cantidad de elementos que no son val.\n",
        "\n",
        "# Tiempo: O(n) | Espacio: O(n)"
      ],
      "metadata": {
        "id": "m3YffR1sdY1Z"
      },
      "execution_count": null,
      "outputs": []
    },
    {
      "cell_type": "markdown",
      "source": [
        "La función removeElement_simple recibe una lista nums y un valor val, y elimina todas las ocurrencias de val en la lista, devolviendo la nueva longitud de la lista sin esos valores.\n",
        "\n",
        "Cómo funciona:\n",
        "\n",
        "Primero, se crea una lista nueva llamada result que contiene todos los elementos de nums que no son iguales a val. Esto se logra con una comprensión de listas que filtra los valores no deseados.\n",
        "\n",
        "Después, para mantener la estructura original (modificar la lista nums en sitio), se copian los elementos filtrados de result de vuelta a nums uno por uno, reemplazando los valores originales.\n",
        "\n",
        "Finalmente, la función devuelve la longitud de la lista result, que representa la cantidad de elementos que no son val.\n",
        "\n",
        "Complejidad:\n",
        "\n",
        "Tiempo: O(n), ya que se recorre la lista original para filtrar los elementos y después para copiarlos.\n",
        "\n",
        "Espacio: O(n), porque se crea una lista auxiliar result que puede llegar a tener casi todos los elementos de nums.\n",
        "\n"
      ],
      "metadata": {
        "id": "MjWOf4oHSMJY"
      }
    },
    {
      "cell_type": "code",
      "source": [
        "#problema6- 27leetcode\n",
        "#Solución Optimizada (in-place con puntero)\n",
        "\n",
        "def removeElement_optimized(nums, val):\n",
        "    k = 0  # índice donde vamos a colocar el siguiente valor que no sea `val`\n",
        "\n",
        "    for i in range(len(nums)): # recorremos todos los índices de nums\n",
        "        if nums[i] != val: # si el valor actual no es `val\n",
        "            nums[k] = nums[i] # copiamos el valor a la posición k\n",
        "            k += 1 # incrementamos k para la siguiente posición válida\n",
        "\n",
        "    return k # retornamos la cantidad de valores distintos a val la nueva longitud\n",
        "\n",
        "#Tiempo: O(n) | Espacio: O(1)\n",
        "\n",
        "\n",
        "# Pruebas\n",
        "nums1 = [3,2,2,3]\n",
        "k1 = removeElement_optimized(nums1, 3)\n",
        "print(k1, nums1[:k1])  # 2 [2,2]\n",
        "\n",
        "nums2 = [0,1,2,2,3,0,4,2]\n",
        "k2 = removeElement_optimized(nums2, 2)\n",
        "print(k2, nums2[:k2])  # 5 [0,1,3,0,4]"
      ],
      "metadata": {
        "id": "1Uw8ui5xdx3N"
      },
      "execution_count": null,
      "outputs": []
    },
    {
      "cell_type": "markdown",
      "source": [
        "La función removeElement_optimized elimina todas las ocurrencias de un valor val de la lista nums modificándola directamente sin usar memoria extra, devolviendo la nueva longitud de la lista sin esos valores.\n",
        "\n",
        "Cómo funciona:\n",
        "\n",
        "Se utiliza un índice k que apunta a la posición donde se colocará el siguiente elemento que no sea igual a val.\n",
        "\n",
        "Se recorre la lista con otro índice i y cada vez que se encuentra un elemento diferente de val, se copia ese elemento a la posición k y se incrementa k.\n",
        "\n",
        "Al final, k indica la cantidad de elementos distintos de val y todos esos elementos quedan al inicio de la lista.\n",
        "\n",
        "Complejidad:\n",
        "Tiempo: O(n) → Se recorre el arreglo una sola vez.\n",
        "\n",
        "Espacio: O(1) → Se modifican los valores en el mismo arreglo, sin usar memoria adicional."
      ],
      "metadata": {
        "id": "9Z8aaiU1Seui"
      }
    },
    {
      "cell_type": "code",
      "source": [
        "#problema7- 28leetcode\n",
        "# Solución Simple (usar slicing)\n",
        "\n",
        "def strStr_simple(haystack: str, needle: str) -> int:\n",
        "    for i in range(len(haystack) - len(needle) + 1): # Recorremos cada posible inicio donde 'needle' podría caber en 'haystack'\n",
        "        if haystack[i:i+len(needle)] == needle: # Comparamos el segmento de 'haystack' con la longitud de 'needle' con 'needle'\n",
        "            return i # Si coinciden, devolvemos la posición inicial donde se encontró\n",
        "    return -1    # Si no se encontró ninguna coincidencia, devolvemos -1\n",
        "\n",
        "#  Tiempo: O(n * m) en el peor caso | Espacio: O(1)"
      ],
      "metadata": {
        "id": "Mrqao-MNetWq"
      },
      "execution_count": null,
      "outputs": []
    },
    {
      "cell_type": "markdown",
      "source": [
        "La función strStr_simple implementa una búsqueda sencilla del primer índice en la cadena haystack donde comienza la subcadena needle. Si needle no aparece en haystack, la función devuelve -1.\n",
        "\n",
        "Cómo funciona:\n",
        "\n",
        "Se recorre la cadena haystack desde el índice 0 hasta len(haystack) - len(needle) para no exceder los límites al hacer la comparación.\n",
        "\n",
        "En cada iteración, se toma un segmento de haystack del mismo tamaño que needle y se compara directamente con needle.\n",
        "\n",
        "Si las dos cadenas coinciden, se retorna el índice actual, que es el primer lugar donde se encuentra needle.\n",
        "\n",
        "Si termina el ciclo sin encontrar coincidencia, se retorna -1, indicando que needle no está en haystack.\n",
        "\n",
        "Complejidad:\n",
        "\n",
        "Tiempo: En el peor caso, la comparación de subcadenas puede tomar hasta O(m) donde m es la longitud de needle. Como el ciclo puede recorrer hasta n-m+1 posiciones, la complejidad total es O(n * m).\n",
        "\n",
        "Espacio: O(1), porque no se usa espacio adicional significativo, solo variables para índices."
      ],
      "metadata": {
        "id": "KciCD2ruVPfi"
      }
    },
    {
      "cell_type": "code",
      "source": [
        "#problema7- 28leetcode\n",
        "# Solución Optimizada (algoritmo de Knuth-Morris-Pratt - KMP)\n",
        "\n",
        "def build_kmp_table(needle):\n",
        "    lps = [0] * len(needle)   # Inicializamos la lista lps Longest Prefix Suffix con ceros\n",
        "    length = 0                 # Longitud del prefijo más largo que es también sufijo\n",
        "    i = 1                       # Empezamos desde el segundo carácter índice 1\n",
        "    while i < len(needle): # Recorremos el patrón completo\n",
        "        if needle[i] == needle[length]: # Si el carácter actual coincide con el carácter en la posición 'length'\n",
        "            length += 1                  # Incrementamos la longitud del prefijo-sufijo\n",
        "            lps[i] = length              # Guardamos este valor en lps para la posición actual\n",
        "            i += 1                       # Avanzamos al siguiente carácter\n",
        "        else:\n",
        "            if length > 0:               # Si no coincide y length es mayor a cero,\n",
        "                length = lps[length-1]   # retrocedemos al valor anterior guardado en lps para intentar encontrar otro prefijo\n",
        "            else:\n",
        "                lps[i] = 0               # Si length es cero, no hay prefijo-sufijo para este índice\n",
        "                i += 1                    # Avanzamos\n",
        "    return lps                            # Devolvemos la tabla lps construida\n",
        "\n",
        "def strStr_optimized(haystack: str, needle: str) -> int:\n",
        "    if not needle:                # Caso especial: si needle es cadena vacía\n",
        "        return 0                   # El índice es 0 por definición\n",
        "\n",
        "    lps = build_kmp_table(needle)      # Construimos la tabla lps para needle\n",
        "    i = j = 0                         # i recorre haystack, j recorre needle\n",
        "\n",
        "    while i < len(haystack):                  # Recorremos toda la cadena principal\n",
        "        if haystack[i] == needle[j]:           # Si los caracteres coinciden\n",
        "            i += 1                             # Avanzamos ambos punteros\n",
        "            j += 1\n",
        "            if j == len(needle):               # Si j llega al final del patrón\n",
        "                return i - j                   # Retornamos la posición donde comenzó la coincidencia\n",
        "        else:\n",
        "            if j > 0:                      # Si hay un fallo y j > 0\n",
        "                j = lps[j - 1]              # Ajustamos j a la posición indicada en lps para no reiniciar completamente\n",
        "            else:\n",
        "                i += 1                      # Si j == 0, avanzamos i para seguir buscando\n",
        "    return -1                                 # No se encontró el patrón en la cadena\n",
        "\n",
        "#Tiempo: O(n + m) | Espacio: O(m)\n",
        "\n",
        "\n",
        "# Pruebas\n",
        "print(strStr_optimized(\"hello\", \"ll\"))        # 2\n",
        "print(strStr_optimized(\"leetcode\", \"leeto\"))  # -1"
      ],
      "metadata": {
        "id": "m0qJTHt3ewwy"
      },
      "execution_count": null,
      "outputs": []
    },
    {
      "cell_type": "markdown",
      "source": [
        "Esta solución implementa el algoritmo Knuth-Morris-Pratt KMP para encontrar el índice de la primera aparición de una subcadena needle dentro de otra cadena más grande haystack. A diferencia de la búsqueda simple, KMP mejora la eficiencia evitando retroceder el índice de la cadena principal cuando ocurre un fallo.\n",
        "\n",
        "Cómo funciona:\n",
        "\n",
        "Construcción de la tabla LPS Longest Prefix Suffix:\n",
        "La función build_kmp_table calcula para cada posición del patrón el tamaño del prefijo más largo que también es sufijo. Esto permite saber dónde reiniciar la comparación en caso de fallo sin retroceder en la cadena principal.\n",
        "\n",
        "Búsqueda del patrón en la cadena:\n",
        "La función strStr_optimized recorre la cadena haystack y el patrón needle simultáneamente. Cuando encuentra un fallo en la comparación, usa la tabla LPS para mover el puntero del patrón a una posición previa donde pueda continuar la búsqueda, sin retroceder en haystack.\n",
        "\n",
        "Complejidad:\n",
        "\n",
        "Tiempo: O(n + m), siendo n la longitud de haystack y m la longitud de needle. Esto es más eficiente que la solución simple porque evita comparar caracteres repetidos innecesariamente.\n",
        "\n",
        "Espacio: O(m) debido al almacenamiento de la tabla LPS."
      ],
      "metadata": {
        "id": "ArpmHLKbXZwK"
      }
    },
    {
      "cell_type": "code",
      "source": [
        "#problema8- 35leetcode\n",
        "# Solución Simple (búsqueda lineal)\n",
        "\n",
        "def searchInsert_simple(nums, target):\n",
        "    for i in range(len(nums)):        # Recorremos la lista nums desde el índice 0 hasta el final\n",
        "        if nums[i] >= target:          # Si encontramos un número mayor o igual al target,\n",
        "            return i                   # retornamos ese índice como la posición donde se debe insertar o ya existe\n",
        "    return len(nums)                   # Si no encontramos ningún número mayor o igual, el target va al final\n",
        "\n",
        "# Tiempo: O(n) | Espacio: O(1)\n",
        "print(searchInsert_simple([1,3,5,6], 5))"
      ],
      "metadata": {
        "id": "nIL15xuxfPWc",
        "colab": {
          "base_uri": "https://localhost:8080/"
        },
        "outputId": "226c6c68-426f-49f2-9c0c-a5079552e35a"
      },
      "execution_count": null,
      "outputs": [
        {
          "output_type": "stream",
          "name": "stdout",
          "text": [
            "2\n"
          ]
        }
      ]
    },
    {
      "cell_type": "markdown",
      "source": [
        "Este algoritmo busca la posición donde se debe insertar un número target en una lista ordenada nums para mantener el orden ascendente.\n",
        "\n",
        "Cómo funciona:\n",
        "\n",
        "Recorre la lista desde el principio y compara cada elemento con el target.\n",
        "\n",
        "Cuando encuentra el primer número que es igual o mayor que el target, devuelve ese índice, porque ahí es donde debería insertarse el target.\n",
        "\n",
        "Si ninguno cumple esta condición, significa que el target es mayor que todos los números en la lista, así que se debe insertar al final. Por eso retorna la longitud de la lista.\n",
        "\n",
        "Complejidad:\n",
        "\n",
        "Tiempo: O(n) en el peor caso, ya que puede recorrer toda la lista.\n",
        "\n",
        "Espacio: O(1) porque no usa espacio extra, solo variables temporales."
      ],
      "metadata": {
        "id": "nVmj_C9BX6A6"
      }
    },
    {
      "cell_type": "code",
      "source": [
        "#problema8- 35leetcode\n",
        "# Solución Optimizada (búsqueda binaria)\n",
        "\n",
        "def searchInsert_optimized(nums, target):\n",
        "    left, right = 0, len(nums) - 1        # Inicializamos los punteros al inicio y al final de la lista\n",
        "\n",
        "    while left <= right:                  # Mientras el rango sea válido\n",
        "        mid = (left + right) // 2         # Calculamos el índice medio para dividir la lista\n",
        "\n",
        "        if nums[mid] == target:           # Si el elemento medio es el target, retornamos su índice\n",
        "            return mid\n",
        "        elif nums[mid] < target:          # Si el valor medio es menor que el target,\n",
        "            left = mid + 1                # ajustamos el límite izquierdo para buscar en la mitad derecha\n",
        "        else:                             # Si es mayor,\n",
        "            right = mid - 1               # ajustamos el límite derecho para buscar en la mitad izquierda\n",
        "\n",
        "    return left                       # Si no encontramos el target, left indica la posición correcta para insertarlo\n",
        "\n",
        "# Tiempo: O(log n) | Espacio: O(1)\n",
        "\n",
        "\n",
        "# Pruebas\n",
        "print(searchInsert_optimized([1,3,5,6], 5))  # 2\n",
        "print(searchInsert_optimized([1,3,5,6], 2))  # 1\n",
        "print(searchInsert_optimized([1,3,5,6], 7))  # 4"
      ],
      "metadata": {
        "id": "TocTG5CDfveq",
        "colab": {
          "base_uri": "https://localhost:8080/"
        },
        "outputId": "25cdd4b6-5903-432e-8097-48c1df9817cc"
      },
      "execution_count": null,
      "outputs": [
        {
          "output_type": "stream",
          "name": "stdout",
          "text": [
            "2\n",
            "1\n",
            "4\n"
          ]
        }
      ]
    },
    {
      "cell_type": "markdown",
      "source": [
        "Esta solución utiliza búsqueda binaria para encontrar la posición de inserción de un elemento target en una lista ordenada nums, con mayor eficiencia que la búsqueda lineal.\n",
        "\n",
        "Funcionamiento:\n",
        "\n",
        "Se inicializan dos punteros: left al inicio y right al final de la lista.\n",
        "\n",
        "Mientras el rango entre left y right sea válido:\n",
        "\n",
        "Se calcula el índice medio mid.\n",
        "\n",
        "Si el valor en mid es igual a target, retornamos mid.\n",
        "\n",
        "Si el valor en mid es menor que target, se mueve left a la derecha para buscar en la mitad superior.\n",
        "\n",
        "Si es mayor, se mueve right a la izquierda para buscar en la mitad inferior.\n",
        "\n",
        "Si el bucle termina sin encontrar el target, el puntero left indicará la posición donde se debe insertar para mantener el orden.\n",
        "\n",
        "Complejidad:\n",
        "\n",
        "Tiempo: O(log n), ya que en cada iteración reduce el rango de búsqueda a la mitad.\n",
        "\n",
        "Espacio: O(1), porque usa variables constantes y no estructuras adicionales."
      ],
      "metadata": {
        "id": "kkQxzG0HYk9w"
      }
    },
    {
      "cell_type": "code",
      "source": [
        "#problema9- 66leetcode\n",
        "# Solución Simple (convertir a entero)\n",
        "\n",
        "def plusOne_simple(digits):\n",
        "    num = int(\"\".join(str(d) for d in digits))    # Convertimos la lista de dígitos en un string, luego a entero\n",
        "    num += 1                                       # Sumamos 1 al número entero\n",
        "    return [int(d) for d in str(num)]              # Convertimos el número resultante de nuevo en lista de dígitos\n",
        "\n",
        "# Tiempo: O(n) por las conversiones | Espacio: O(n)"
      ],
      "metadata": {
        "id": "o1J22va0gH-z"
      },
      "execution_count": null,
      "outputs": []
    },
    {
      "cell_type": "markdown",
      "source": [
        "Esta solución convierte la lista de dígitos que representan un número entero en una cadena, luego en un número entero, le suma uno y finalmente convierte el resultado de nuevo en una lista de dígitos.\n",
        "\n",
        "Funcionamiento:\n",
        "\n",
        "Se usa un generador para convertir cada dígito de la lista a cadena y concatenarlos en un solo string.\n",
        "\n",
        "Se transforma ese string en un entero con int().\n",
        "\n",
        "Se suma 1 al entero resultante.\n",
        "\n",
        "Se convierte el entero modificado en string para poder dividirlo nuevamente en dígitos individuales.\n",
        "\n",
        "Se usa una lista por comprensión para transformar cada carácter en un entero, devolviendo la lista actualizada.\n",
        "\n",
        "Complejidad:\n",
        "\n",
        "Tiempo: O(n), donde n es el número de dígitos, porque cada conversión y procesamiento recorre la lista o el string completo.\n",
        "\n",
        "Espacio: O(n), ya que se crean nuevas estructuras de datos (string y lista)."
      ],
      "metadata": {
        "id": "5-hlrGrwZCW5"
      }
    },
    {
      "cell_type": "code",
      "source": [
        "#problema9- 66leetcode\n",
        "# Solución Optimizada (sin convertir a entero)\n",
        "\n",
        "def plusOne_optimized(digits):\n",
        "    n = len(digits)              # Guardamos la longitud de la lista\n",
        "\n",
        "    for i in reversed(range(n)):    # Recorremos la lista desde el último dígito hacia el primero\n",
        "        if digits[i] < 9:            # Si el dígito es menor que 9,\n",
        "            digits[i] += 1           # simplemente sumamos 1 a ese dígito\n",
        "            return digits            # y devolvemos la lista modificada inmediatamente\n",
        "        digits[i] = 0                # Si el dígito es 9, lo ponemos a 0 y seguimos el ciclo para sumar el acarreo\n",
        "\n",
        "    return [1] + digits              # Si todos los dígitos eran 9, agregamos un 1 al inicio de la lista\n",
        "\n",
        "# Tiempo: O(n) | Espacio: O(1) si se modifica en el lugar\n",
        "\n",
        "\n",
        "# Pruebas\n",
        "print(plusOne_optimized([1,2,3]))   # [1,2,4]\n",
        "print(plusOne_optimized([9,9,9]))   # [1,0,0,0]\n",
        "print(plusOne_optimized([0]))       # [1]\n"
      ],
      "metadata": {
        "id": "45CNo-TUgmuB",
        "colab": {
          "base_uri": "https://localhost:8080/"
        },
        "outputId": "25de5320-11cb-45ef-e947-c1ba8cb16fc5"
      },
      "execution_count": null,
      "outputs": [
        {
          "output_type": "stream",
          "name": "stdout",
          "text": [
            "[1, 2, 4]\n",
            "[1, 0, 0, 0]\n",
            "[1]\n"
          ]
        }
      ]
    },
    {
      "cell_type": "markdown",
      "source": [
        "Esta solución optimizada incrementa un número representado como una lista de dígitos sin convertirlo a entero, evitando así problemas con números muy grandes y mejorando la eficiencia en espacio.\n",
        "\n",
        "Funcionamiento:\n",
        "\n",
        "Se recorre la lista desde el final hacia el inicio para simular la suma del uno como si se hiciera a mano.\n",
        "\n",
        "Si el dígito actual es menor que 9, se incrementa en 1 y se retorna la lista, ya que no hay acarreo.\n",
        "\n",
        "Si el dígito es 9, se cambia a 0 y el ciclo continúa para sumar el acarreo al siguiente dígito a la izquierda.\n",
        "\n",
        "Si se recorren todos los dígitos y todos son 9 (por ejemplo, 999), se crea una nueva lista con un 1 al inicio seguida de ceros.\n",
        "\n",
        "Complejidad:\n",
        "\n",
        "Tiempo: O(n), donde n es el número de dígitos, porque en el peor caso se recorre toda la lista.\n",
        "\n",
        "Espacio: O(1) en la mayoría de los casos porque se modifica la lista en sitio, salvo cuando hay que agregar un dígito extra (como en 999 → 1000)."
      ],
      "metadata": {
        "id": "cuHHkGHUZlSZ"
      }
    },
    {
      "cell_type": "code",
      "source": [
        "#problema10- 58leetcode\n",
        "# Solución Simple (split)\n",
        "\n",
        "def lengthOfLastWord_simple(s):\n",
        "    words = s.strip().split()     # Eliminamos espacios al inicio y fin, luego separamos la cadena en palabras usando espacios\n",
        "    return len(words[-1])         # Devolvemos la longitud de la última palabra de la lista\n",
        "\n",
        "# Tiempo: O(n) | Espacio: O(n)"
      ],
      "metadata": {
        "id": "E3PAXGIzg8nD"
      },
      "execution_count": null,
      "outputs": []
    },
    {
      "cell_type": "markdown",
      "source": [
        "Esta solución obtiene la longitud de la última palabra en una cadena de texto de forma sencilla:\n",
        "\n",
        "Primero, strip() elimina espacios en blanco al inicio y al final de la cadena para evitar problemas si hay espacios extras.\n",
        "\n",
        "Luego, split() divide la cadena en una lista de palabras separadas por espacios.\n",
        "\n",
        "Finalmente, se accede a la última palabra con words[-1] y se calcula su longitud con len().\n",
        "\n",
        "Complejidad:\n",
        "\n",
        "Tiempo: O(n), porque el método split() recorre toda la cadena una vez para dividirla en palabras.\n",
        "\n",
        "Espacio: O(n), ya que se crea una lista que puede contener todas las palabras de la cadena."
      ],
      "metadata": {
        "id": "R0BWrpsaZ8vC"
      }
    },
    {
      "cell_type": "code",
      "source": [
        "#problema10- 58leetcode\n",
        "# Solución Optimizada (recorrido desde el final)\n",
        "\n",
        "def lengthOfLastWord_optimized(s):\n",
        "    length = 0                       # Inicializamos el contador de longitud en 0\n",
        "    i = len(s) - 1                   # Empezamos desde el último índice de la cadena\n",
        "\n",
        "    # Ignorar los espacios del final\n",
        "    while i >= 0 and s[i] == ' ':\n",
        "        i -= 1                      # Retrocedemos hasta encontrar un carácter que no sea espacio\n",
        "\n",
        "    # Contar la última palabra\n",
        "    while i >= 0 and s[i] != ' ':\n",
        "        length += 1                # Incrementamos el contador por cada carácter de la última palabra\n",
        "        i -= 1                     # Retrocedemos por la cadena\n",
        "\n",
        "    return length                  # Devolvemos la longitud calculada\n",
        "\n",
        "# Tiempo: O(n) | Espacio: O(1)\n",
        "\n",
        "\n",
        "# Pruebas\n",
        "print(lengthOfLastWord_optimized(\"Hello World\"))          # 5\n",
        "print(lengthOfLastWord_optimized(\"   fly me   to   the moon  \"))  # 4\n",
        "print(lengthOfLastWord_optimized(\"luffy is still joyboy\")) # 6"
      ],
      "metadata": {
        "id": "G00osAh6hV1a"
      },
      "execution_count": null,
      "outputs": []
    },
    {
      "cell_type": "markdown",
      "source": [
        "Esta solución optimizada calcula la longitud de la última palabra sin dividir la cadena ni usar espacio extra:\n",
        "\n",
        "Se empieza desde el final de la cadena y se ignoran los espacios en blanco finales.\n",
        "\n",
        "Luego se cuenta la cantidad de caracteres de la última palabra hasta encontrar un espacio o el inicio de la cadena.\n",
        "\n",
        "Al usar índices y contadores simples, se evita crear listas o cadenas adicionales.\n",
        "\n",
        "Complejidad:\n",
        "\n",
        "Tiempo: O(n), porque en el peor caso se recorre la cadena una vez desde el final hacia el inicio.\n",
        "\n",
        "Espacio: O(1), ya que solo se usan variables simples para el conteo y el índice, sin estructuras adicionales."
      ],
      "metadata": {
        "id": "RmybcHFRaiqL"
      }
    }
  ]
}